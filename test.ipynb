{
 "cells": [
  {
   "cell_type": "code",
   "execution_count": 2,
   "metadata": {},
   "outputs": [],
   "source": [
    "from medmnist import INFO, Evaluator"
   ]
  },
  {
   "cell_type": "code",
   "execution_count": 5,
   "metadata": {},
   "outputs": [
    {
     "data": {
      "text/plain": [
       "['pathmnist',\n",
       " 'chestmnist',\n",
       " 'dermamnist',\n",
       " 'octmnist',\n",
       " 'pneumoniamnist',\n",
       " 'retinamnist',\n",
       " 'breastmnist',\n",
       " 'bloodmnist',\n",
       " 'tissuemnist',\n",
       " 'organamnist',\n",
       " 'organcmnist',\n",
       " 'organsmnist',\n",
       " 'organmnist3d',\n",
       " 'nodulemnist3d',\n",
       " 'adrenalmnist3d',\n",
       " 'fracturemnist3d',\n",
       " 'vesselmnist3d',\n",
       " 'synapsemnist3d']"
      ]
     },
     "execution_count": 5,
     "metadata": {},
     "output_type": "execute_result"
    }
   ],
   "source": [
    "list(INFO.keys())"
   ]
  },
  {
   "cell_type": "code",
   "execution_count": 6,
   "metadata": {},
   "outputs": [
    {
     "data": {
      "text/plain": [
       "3"
      ]
     },
     "execution_count": 6,
     "metadata": {},
     "output_type": "execute_result"
    }
   ],
   "source": [
    "info = INFO['pathmnist']\n",
    "info['n_channels']"
   ]
  }
 ],
 "metadata": {
  "kernelspec": {
   "display_name": "pytorch",
   "language": "python",
   "name": "python3"
  },
  "language_info": {
   "codemirror_mode": {
    "name": "ipython",
    "version": 3
   },
   "file_extension": ".py",
   "mimetype": "text/x-python",
   "name": "python",
   "nbconvert_exporter": "python",
   "pygments_lexer": "ipython3",
   "version": "3.11.8"
  }
 },
 "nbformat": 4,
 "nbformat_minor": 2
}
